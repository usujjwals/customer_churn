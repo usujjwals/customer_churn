{
 "cells": [
  {
   "cell_type": "code",
   "execution_count": 1,
   "id": "122be7d8-d14f-401a-8a00-b4a7a6926965",
   "metadata": {},
   "outputs": [],
   "source": [
    "## calculating how to predict new data \n",
    "# separating SVM model because it have the best outcome out of all the models\n",
    "\n",
    "svm_model=models[\"SVM\"]\n",
    "\n",
    "#Refit on all of original data\n",
    "svm_model.fit(X,y)\n",
    "\n",
    "#new_df is a pandas DataFrame with the SAME feature columns as X\n",
    "x_newdata=X #instead of X put the new df without churn column\n",
    "\n",
    "#Generate class predictions\n",
    "predict_y_data=svm_model.predict(x_newdata)\n",
    "\n",
    "print(\"Predicted classes:\", predict_y_data[:20])\n",
    "\n",
    "convert=pd.DataFrame(predict_y_data,columns=['Churn'])\n",
    "print(convert.value_counts())"
   ]
  },
  {
   "cell_type": "code",
   "execution_count": null,
   "id": "47ee8c38-a9c9-4d12-93de-ba7e236f3fae",
   "metadata": {},
   "outputs": [],
   "source": [
    "RandomForest_model=models[\"RandomForest\"]\n",
    "\n",
    "#Refit on all of original data\n",
    "RandomForest_model.fit(X,y)\n",
    "\n",
    "#new_df is a pandas DataFrame with the SAME feature columns as X\n",
    "x_newdata=X #instead of X put the new df without churn column\n",
    "\n",
    "#Generate class predictions\n",
    "predict_y_data=RandomForest_model.predict(x_newdata)\n",
    "\n",
    "print(\"Predicted classes:\", predict_y_data[:20])\n",
    "\n",
    "convert=pd.DataFrame(predict_y_data,columns=['Churn'])\n",
    "print(convert.value_counts())"
   ]
  },
  {
   "cell_type": "code",
   "execution_count": null,
   "id": "16ade8ba-ec37-4779-854e-b32979a1907d",
   "metadata": {},
   "outputs": [],
   "source": []
  }
 ],
 "metadata": {
  "kernelspec": {
   "display_name": "Python [conda env:base] *",
   "language": "python",
   "name": "conda-base-py"
  },
  "language_info": {
   "codemirror_mode": {
    "name": "ipython",
    "version": 3
   },
   "file_extension": ".py",
   "mimetype": "text/x-python",
   "name": "python",
   "nbconvert_exporter": "python",
   "pygments_lexer": "ipython3",
   "version": "3.12.2"
  }
 },
 "nbformat": 4,
 "nbformat_minor": 5
}
