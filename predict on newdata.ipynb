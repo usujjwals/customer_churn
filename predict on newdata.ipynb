{
 "cells": [
  {
   "cell_type": "code",
   "execution_count": 1,
   "id": "122be7d8-d14f-401a-8a00-b4a7a6926965",
   "metadata": {},
   "outputs": [],
   "source": [
    "## calculating how to predict new data \n",
    "# separating SVM model because it have the best outcome out of all the models\n",
    "\n",
    "svm_model=load(\"svm_churn_pipeline.joblib\")\n",
    "\n",
    "\n",
    "#new_df is a pandas DataFrame with the SAME feature columns as X\n",
    "x_newdata=pd.read_csv(\"newdata.csv\")\n",
    "\n",
    "#Generate class predictions\n",
    "predict_y_data=svm_model.predict(x_newdata)\n",
    "\n",
    "print(\"Predicted classes:\", predict_y_data[:20])\n",
    "\n",
    "convert=pd.DataFrame(predict_y_data,columns=['Churn'])\n",
    "print(convert.value_counts())"
   ]
  },
  {
   "cell_type": "markdown",
   "id": "ef0896e3-64f9-4c73-9eb5-1dda78796af5",
   "metadata": {},
   "source": [
    "# Using the load library to load the models and use it over and over again for SVM "
   ]
  },
  {
   "cell_type": "code",
   "execution_count": null,
   "id": "47ee8c38-a9c9-4d12-93de-ba7e236f3fae",
   "metadata": {},
   "outputs": [],
   "source": [
    "RandomForest_model=load(\"RandomForest_churn_pipeline.joblib\")\n",
    "\n",
    "\n",
    "#new_df is a pandas DataFrame with the SAME feature columns as X\n",
    "x_newdata=pd.read_csv(\"newdata.csv\")\n",
    "\n",
    "#Generate class predictions\n",
    "predict_y_data=RandomForest_model.predict(x_newdata)\n",
    "\n",
    "print(\"Predicted classes:\", predict_y_data[:20])\n",
    "\n",
    "convert=pd.DataFrame(predict_y_data,columns=['Churn'])\n",
    "print(convert.value_counts())"
   ]
  },
  {
   "cell_type": "markdown",
   "id": "1dde3474-c465-485a-96ff-03a83a3a4844",
   "metadata": {},
   "source": [
    "# Using the load library to load the models and use it over and over again for RandomForest"
   ]
  }
 ],
 "metadata": {
  "kernelspec": {
   "display_name": "Python [conda env:base] *",
   "language": "python",
   "name": "conda-base-py"
  },
  "language_info": {
   "codemirror_mode": {
    "name": "ipython",
    "version": 3
   },
   "file_extension": ".py",
   "mimetype": "text/x-python",
   "name": "python",
   "nbconvert_exporter": "python",
   "pygments_lexer": "ipython3",
   "version": "3.12.2"
  }
 },
 "nbformat": 4,
 "nbformat_minor": 5
}
